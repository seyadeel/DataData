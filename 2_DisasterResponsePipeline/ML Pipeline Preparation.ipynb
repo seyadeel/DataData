{
 "cells": [
  {
   "cell_type": "markdown",
   "metadata": {},
   "source": [
    "# ML Pipeline Preparation\n",
    "Follow the instructions below to help you create your ML pipeline.\n",
    "### 1. Import libraries and load data from database.\n",
    "- Import Python libraries\n",
    "- Load dataset from database with [`read_sql_table`](https://pandas.pydata.org/pandas-docs/stable/generated/pandas.read_sql_table.html)\n",
    "- Define feature and target variables X and Y"
   ]
  },
  {
   "cell_type": "code",
   "execution_count": 1,
   "metadata": {},
   "outputs": [
    {
     "name": "stdout",
     "output_type": "stream",
     "text": [
      "[nltk_data] Downloading package wordnet to /root/nltk_data...\n",
      "[nltk_data]   Unzipping corpora/wordnet.zip.\n",
      "[nltk_data] Downloading package punkt to /root/nltk_data...\n",
      "[nltk_data]   Unzipping tokenizers/punkt.zip.\n",
      "[nltk_data] Downloading package stopwords to /root/nltk_data...\n",
      "[nltk_data]   Unzipping corpora/stopwords.zip.\n"
     ]
    }
   ],
   "source": [
    "# import libraries\n",
    "import sys\n",
    "import pandas as pd\n",
    "import numpy as np\n",
    "from sqlalchemy import create_engine\n",
    "import re\n",
    "from IPython import display\n",
    "import warnings\n",
    "\n",
    "import nltk\n",
    "from nltk.tokenize import word_tokenize, sent_tokenize\n",
    "from nltk.corpus import stopwords\n",
    "from nltk.stem.wordnet import WordNetLemmatizer\n",
    "\n",
    "nltk.download(['wordnet', 'punkt', 'stopwords'])\n",
    "\n",
    "from sklearn.ensemble import RandomForestClassifier\n",
    "from sklearn.multioutput import MultiOutputClassifier\n",
    "from sklearn.pipeline import Pipeline, FeatureUnion, TransformerMixin\n",
    "from sklearn.model_selection import train_test_split, GridSearchCV\n",
    "from sklearn.feature_extraction.text import CountVectorizer, BaseEstimator, TfidfTransformer\n",
    "from sklearn.metrics import f1_score, recall_score, precision_score, classification_report, accuracy_score\n"
   ]
  },
  {
   "cell_type": "code",
   "execution_count": 2,
   "metadata": {},
   "outputs": [
    {
     "name": "stdout",
     "output_type": "stream",
     "text": [
      "['related', 'request', 'offer', 'aid_related', 'medical_help', 'medical_products', 'search_and_rescue', 'security', 'military', 'child_alone', 'water', 'food', 'shelter', 'clothing', 'money', 'missing_people', 'refugees', 'death', 'other_aid', 'infrastructure_related', 'transport', 'buildings', 'electricity', 'tools', 'hospitals', 'shops', 'aid_centers', 'other_infrastructure', 'weather_related', 'floods', 'storm', 'fire', 'earthquake', 'cold', 'other_weather', 'direct_report']\n"
     ]
    }
   ],
   "source": [
    "# load data from database\n",
    "engine = create_engine('sqlite:///InsertDatabaseName.db')\n",
    "df = pd.read_sql(\"SELECT * FROM InsertTableName;\", engine)\n",
    "X = df.message.values\n",
    "Y = df.iloc[:, 4:].values\n",
    "category_label = df.iloc[:, 4:].columns.tolist()\n",
    "print(category_label)"
   ]
  },
  {
   "cell_type": "code",
   "execution_count": 3,
   "metadata": {},
   "outputs": [],
   "source": [
    "def silence_print(true_label, pred_label, silence=True):\n",
    "    \"\"\"Print classification report without warning message\n",
    "    \n",
    "    Parameters:\n",
    "    -----------\n",
    "    true_label: array\n",
    "        The true values\n",
    "    pred_label: array\n",
    "        The predict values\n",
    "    silence: boolean default True\n",
    "        If true, print the report without warning message\n",
    "    \"\"\"\n",
    "    if silence:\n",
    "        with warnings.catch_warnings():\n",
    "            warnings.simplefilter(\"ignore\")\n",
    "            for index, column in enumerate(category_label):\n",
    "                report = classification_report(\n",
    "                    true_label[:, index], pred_label[:, index], labels=np.arange(1), \\\n",
    "                    target_names=[column], digits=2               \n",
    "                )\n",
    "                \n",
    "                print(\"{0:<25}\\n  Accuracy:{1: 5.3f}  Precision:{2: =6.3f}   Recall:{3:< 5.3f}\".format(\n",
    "                    column, accuracy_score(true_label[:, index], pred_label[:, index]), \n",
    "                    report[column][\"precision\"], report[column][\"recall\"], report[column][\"f1-score\"]\n",
    "                ))\n",
    "    else:\n",
    "        for index, column in enumerate(category_label):\n",
    "            report = classification_report(\n",
    "                    true_label[:, index], pred_label[:, index], labels=np.arange(1), \\\n",
    "                    target_names=[column], digits=2\n",
    "                )\n",
    "            print(\"{0:<25}\\n  Accuracy:{1: 5.3f}  Precision:{2: =6.3f}   Recall:{3:< 5.3f}\".format(\n",
    "                    column, accuracy_score(true_label[:, index], pred_label[:, index]), \n",
    "                    report[column][\"precision\"], report[column][\"recall\"], report[column][\"f1-score\"]\n",
    "                ))"
   ]
  },
  {
   "cell_type": "markdown",
   "metadata": {},
   "source": [
    "### 2. Write a tokenization function to process your text data"
   ]
  },
  {
   "cell_type": "code",
   "execution_count": 4,
   "metadata": {},
   "outputs": [],
   "source": [
    "def tokenize(text):\n",
    "    \"\"\"Tokenize the text \n",
    "    \n",
    "    Tokenize the text information by using word_tokenize, WordNetLemmatizer, \n",
    "    remove words that is in stopwords\n",
    "    \n",
    "    Parameters:\n",
    "    -----------\n",
    "    text: string\n",
    "        String contains the message information\n",
    "    \n",
    "    Results:\n",
    "    ----------\n",
    "    result: list\n",
    "        List contains strings parsed from the text\n",
    "    \"\"\"\n",
    "    # nromalize text\n",
    "    text = re.sub(r\"[^a-zA-Z0-9]\", \" \", text.lower())\n",
    "    \n",
    "    # tokenize text\n",
    "    tokens = word_tokenize(text)\n",
    "    \n",
    "    # lemmatize and remove stop words\n",
    "    lemmatizer = WordNetLemmatizer()\n",
    "    stop_words = stopwords.words(\"english\")\n",
    "    \n",
    "    result = []\n",
    "    for token in tokens:\n",
    "        if token not in stop_words:\n",
    "            result.append(lemmatizer.lemmatize(token))\n",
    "    return result\n"
   ]
  },
  {
   "cell_type": "markdown",
   "metadata": {},
   "source": [
    "### 3. Build a machine learning pipeline\n",
    "This machine pipeline should take in the `message` column as input and output classification results on the other 36 categories in the dataset. You may find the [MultiOutputClassifier](http://scikit-learn.org/stable/modules/generated/sklearn.multioutput.MultiOutputClassifier.html) helpful for predicting multiple target variables."
   ]
  },
  {
   "cell_type": "code",
   "execution_count": 5,
   "metadata": {},
   "outputs": [],
   "source": [
    "forest = RandomForestClassifier(random_state=42, n_jobs=4) \n",
    "\n",
    "\n",
    "pipeline = Pipeline([\n",
    "    ('text_pipeline', Pipeline([\n",
    "        ('vect', CountVectorizer(tokenizer=tokenize)),\n",
    "        ('tfidf', TfidfTransformer())\n",
    "    ])),\n",
    "    ('clf', MultiOutputClassifier(forest, n_jobs=2))\n",
    "])"
   ]
  },
  {
   "cell_type": "markdown",
   "metadata": {},
   "source": [
    "### 4. Train pipeline\n",
    "- Split data into train and test sets\n",
    "- Train pipeline"
   ]
  },
  {
   "cell_type": "code",
   "execution_count": 6,
   "metadata": {},
   "outputs": [],
   "source": [
    "#spliting data\n",
    "train_X, test_X, train_y, test_y = train_test_split(X, Y, test_size=0.3, random_state=42)"
   ]
  },
  {
   "cell_type": "code",
   "execution_count": 7,
   "metadata": {},
   "outputs": [
    {
     "data": {
      "text/plain": [
       "Pipeline(memory=None,\n",
       "     steps=[('text_pipeline', Pipeline(memory=None,\n",
       "     steps=[('vect', CountVectorizer(analyzer='word', binary=False, decode_error='strict',\n",
       "        dtype=<class 'numpy.int64'>, encoding='utf-8', input='content',\n",
       "        lowercase=True, max_df=1.0, max_features=None, min_df=1,\n",
       "        ngram_range=(1, 1...,\n",
       "            oob_score=False, random_state=42, verbose=0, warm_start=False),\n",
       "           n_jobs=2))])"
      ]
     },
     "execution_count": 7,
     "metadata": {},
     "output_type": "execute_result"
    }
   ],
   "source": [
    "#trainig data\n",
    "\n",
    "pipeline.fit(train_X, train_y)"
   ]
  },
  {
   "cell_type": "markdown",
   "metadata": {},
   "source": [
    "### 5. Test your model\n",
    "Report the f1 score, precision and recall for each output category of the dataset. You can do this by iterating through the columns and calling sklearn's `classification_report` on each."
   ]
  },
  {
   "cell_type": "code",
   "execution_count": 8,
   "metadata": {},
   "outputs": [],
   "source": [
    "# basic model\n",
    "\n",
    "pred_y = pipeline.predict(test_X)"
   ]
  },
  {
   "cell_type": "code",
   "execution_count": 9,
   "metadata": {},
   "outputs": [
    {
     "name": "stdout",
     "output_type": "stream",
     "text": [
      "0.19.1\n"
     ]
    },
    {
     "ename": "TypeError",
     "evalue": "string indices must be integers",
     "output_type": "error",
     "traceback": [
      "\u001b[0;31m---------------------------------------------------------------------------\u001b[0m",
      "\u001b[0;31mTypeError\u001b[0m                                 Traceback (most recent call last)",
      "\u001b[0;32m<ipython-input-9-04e3d405b5f2>\u001b[0m in \u001b[0;36m<module>\u001b[0;34m()\u001b[0m\n\u001b[1;32m      2\u001b[0m \u001b[0;32mimport\u001b[0m \u001b[0msklearn\u001b[0m\u001b[0;34m\u001b[0m\u001b[0m\n\u001b[1;32m      3\u001b[0m \u001b[0mprint\u001b[0m\u001b[0;34m(\u001b[0m\u001b[0msklearn\u001b[0m\u001b[0;34m.\u001b[0m\u001b[0m__version__\u001b[0m\u001b[0;34m)\u001b[0m\u001b[0;34m\u001b[0m\u001b[0m\n\u001b[0;32m----> 4\u001b[0;31m \u001b[0msilence_print\u001b[0m\u001b[0;34m(\u001b[0m\u001b[0mpred_y\u001b[0m\u001b[0;34m,\u001b[0m \u001b[0mtest_y\u001b[0m\u001b[0;34m)\u001b[0m\u001b[0;34m\u001b[0m\u001b[0m\n\u001b[0m",
      "\u001b[0;32m<ipython-input-3-1ec457d1ace2>\u001b[0m in \u001b[0;36msilence_print\u001b[0;34m(true_label, pred_label, silence)\u001b[0m\n\u001b[1;32m     22\u001b[0m                 print(\"{0:<25}\\n  Accuracy:{1: 5.3f}  Precision:{2: =6.3f}   Recall:{3:< 5.3f}\".format(\n\u001b[1;32m     23\u001b[0m                     \u001b[0mcolumn\u001b[0m\u001b[0;34m,\u001b[0m \u001b[0maccuracy_score\u001b[0m\u001b[0;34m(\u001b[0m\u001b[0mtrue_label\u001b[0m\u001b[0;34m[\u001b[0m\u001b[0;34m:\u001b[0m\u001b[0;34m,\u001b[0m \u001b[0mindex\u001b[0m\u001b[0;34m]\u001b[0m\u001b[0;34m,\u001b[0m \u001b[0mpred_label\u001b[0m\u001b[0;34m[\u001b[0m\u001b[0;34m:\u001b[0m\u001b[0;34m,\u001b[0m \u001b[0mindex\u001b[0m\u001b[0;34m]\u001b[0m\u001b[0;34m)\u001b[0m\u001b[0;34m,\u001b[0m\u001b[0;34m\u001b[0m\u001b[0m\n\u001b[0;32m---> 24\u001b[0;31m                     \u001b[0mreport\u001b[0m\u001b[0;34m[\u001b[0m\u001b[0mcolumn\u001b[0m\u001b[0;34m]\u001b[0m\u001b[0;34m[\u001b[0m\u001b[0;34m\"precision\"\u001b[0m\u001b[0;34m]\u001b[0m\u001b[0;34m,\u001b[0m \u001b[0mreport\u001b[0m\u001b[0;34m[\u001b[0m\u001b[0mcolumn\u001b[0m\u001b[0;34m]\u001b[0m\u001b[0;34m[\u001b[0m\u001b[0;34m\"recall\"\u001b[0m\u001b[0;34m]\u001b[0m\u001b[0;34m,\u001b[0m \u001b[0mreport\u001b[0m\u001b[0;34m[\u001b[0m\u001b[0mcolumn\u001b[0m\u001b[0;34m]\u001b[0m\u001b[0;34m[\u001b[0m\u001b[0;34m\"f1-score\"\u001b[0m\u001b[0;34m]\u001b[0m\u001b[0;34m\u001b[0m\u001b[0m\n\u001b[0m\u001b[1;32m     25\u001b[0m                 ))\n\u001b[1;32m     26\u001b[0m     \u001b[0;32melse\u001b[0m\u001b[0;34m:\u001b[0m\u001b[0;34m\u001b[0m\u001b[0m\n",
      "\u001b[0;31mTypeError\u001b[0m: string indices must be integers"
     ]
    }
   ],
   "source": [
    "# print the report\n",
    "import sklearn\n",
    "print(sklearn.__version__)\n",
    "silence_print(pred_y, test_y)"
   ]
  },
  {
   "cell_type": "markdown",
   "metadata": {},
   "source": [
    "### 6. Improve your model\n",
    "Use grid search to find better parameters. "
   ]
  },
  {
   "cell_type": "code",
   "execution_count": null,
   "metadata": {},
   "outputs": [],
   "source": [
    "forest = RandomForestClassifier(random_state=42) \n",
    "\n",
    "\n",
    "pipeline = Pipeline([\n",
    "    ('text_pipeline', Pipeline([\n",
    "        ('vect', CountVectorizer(tokenizer=tokenize)),\n",
    "        ('tfidf', TfidfTransformer())\n",
    "    ])),\n",
    "    ('clf', MultiOutputClassifier(forest))\n",
    "])"
   ]
  },
  {
   "cell_type": "code",
   "execution_count": null,
   "metadata": {},
   "outputs": [],
   "source": [
    "# params\n",
    "params = {\n",
    "    'text_pipeline__vect__max_features': (5000, 100000),\n",
    "    'clf__estimator__n_estimators': [10, 20, 30],\n",
    "    'clf__estimator__criterion': ['gini', 'entropy'],\n",
    "    'clf__estimator__max_depth': [4, 6, 10],\n",
    "\n",
    "}"
   ]
  },
  {
   "cell_type": "code",
   "execution_count": null,
   "metadata": {},
   "outputs": [],
   "source": [
    "cv = GridSearchCV(pipeline, param_grid=params, cv=3)\n",
    "\n",
    "cv.fit(train_X, train_y)"
   ]
  },
  {
   "cell_type": "markdown",
   "metadata": {},
   "source": [
    "### 7. Test your model\n",
    "Show the accuracy, precision, and recall of the tuned model.  \n",
    "\n",
    "Since this project focuses on code quality, process, and  pipelines, there is no minimum performance metric needed to pass. However, make sure to fine tune your models for accuracy, precision and recall to make your project stand out - especially for your portfolio!"
   ]
  },
  {
   "cell_type": "code",
   "execution_count": null,
   "metadata": {},
   "outputs": [],
   "source": [
    "# predicting values\n",
    "pred_y = cv.predict(test_X)"
   ]
  },
  {
   "cell_type": "code",
   "execution_count": null,
   "metadata": {},
   "outputs": [],
   "source": [
    "# print report\n",
    "\n",
    "silence_print(test_y, pred_y)"
   ]
  },
  {
   "cell_type": "markdown",
   "metadata": {},
   "source": [
    "### 8. Try improving your model further. Here are a few ideas:\n",
    "* try other machine learning algorithms\n",
    "* add other features besides the TF-IDF"
   ]
  },
  {
   "cell_type": "code",
   "execution_count": null,
   "metadata": {},
   "outputs": [],
   "source": [
    "def silence_print(true_label, pred_label, silence=True):\n",
    "    \"\"\"Print classification report without warning message\n",
    "    \n",
    "    Parameters:\n",
    "    -----------\n",
    "    true_label: array\n",
    "        The true values\n",
    "    pred_label: array\n",
    "        The predict values\n",
    "    silence: boolean default True\n",
    "        If true, print the report without warning message\n",
    "    \"\"\"\n",
    "    if silence:\n",
    "        with warnings.catch_warnings():\n",
    "            warnings.simplefilter(\"ignore\")\n",
    "            for index, column in enumerate(category_label):\n",
    "                report = classification_report(\n",
    "                    true_label[:, index], pred_label[:, index], labels=np.arange(1), \\\n",
    "                    target_names=[column], digits=2\n",
    "                )\n",
    "                print(\"{0:<25}\\n  Accuracy:{1: 5.3f}  Precision:{2: =6.3f}   Recall:{3:< 5.3f}\".format(\n",
    "                    column, accuracy_score(true_label[:, index], pred_label[:, index]), \n",
    "                    0, 1, 2\n",
    "                ))\n",
    "    else:\n",
    "        for index, column in enumerate(category_label):\n",
    "            report = classification_report(\n",
    "                    true_label[:, index], pred_label[:, index], labels=np.arange(1), \\\n",
    "                    target_names=[column], digits=2\n",
    "                )\n",
    "            print(\"{0:<25}\\n  Accuracy:{1: 5.3f}  Precision:{2: =6.3f}   Recall:{3:< 5.3f}\".format(\n",
    "                    column, accuracy_score(true_label[:, index], pred_label[:, index]), \n",
    "                    0, 1, 2\n",
    "                ))"
   ]
  },
  {
   "cell_type": "code",
   "execution_count": null,
   "metadata": {},
   "outputs": [],
   "source": [
    "def check(x):\n",
    "    \"\"\"Parse the text into more information\n",
    "    Get the more information to analyze, like sentence length over 1\n",
    "    and check the pos tag type\n",
    "    \n",
    "    Parameters:\n",
    "    -----------\n",
    "    x: string\n",
    "        Messages string\n",
    "    \n",
    "    Results:\n",
    "    ----------\n",
    "    length: boolean\n",
    "        Check the sentence length is over 1\n",
    "    chunck: boolean\n",
    "        Check whether there is specific pos tag\n",
    "    \"\"\"\n",
    "    length = len(sent_tokenize(x))\n",
    "    chunck = False\n",
    "\n",
    "    for sentence in sent_tokenize(x):\n",
    "        pos_tags = nltk.pos_tag(chunck_tokenize(sentence))\n",
    "\n",
    "        try:\n",
    "            word, tag = pos_tags[0]\n",
    "\n",
    "            if \"VB\" in tag:\n",
    "                chunck = True\n",
    "        except:\n",
    "            continue\n",
    "        \n",
    "        try:\n",
    "            for word, tag in nltk.pos_tag(chunck_tokenize(sentence))[:3]:\n",
    "                if tag == \"NNP\":\n",
    "                    chunck = True\n",
    "                    break\n",
    "        except:\n",
    "            continue\n",
    "            \n",
    "        if chunck:\n",
    "            break\n",
    "\n",
    "    return (length, chunck)"
   ]
  },
  {
   "cell_type": "code",
   "execution_count": null,
   "metadata": {},
   "outputs": [],
   "source": [
    "class WordChunckExtract(BaseEstimator, TransformerMixin):\n",
    "    \"\"\"Word Pos Tag Extract\n",
    "    \n",
    "    Word Chunck extract the text information, which is used to \n",
    "    fit and transform method\n",
    "    \"\"\"\n",
    "    def starting_verb(self, text):\n",
    "        \"\"\"Parse the text into more information\n",
    "        Get the more information to analyze, like sentence length over 1\n",
    "        and check the pos tag type\n",
    "\n",
    "        Parameters:\n",
    "        -----------\n",
    "        text: string\n",
    "            Messages string\n",
    "\n",
    "        Results:\n",
    "        ----------\n",
    "        length: boolean\n",
    "            Check the sentence length is over 1\n",
    "        chunck: boolean\n",
    "            Check whether there is specific pos tag\n",
    "        \"\"\"\n",
    "        length = len(sent_tokenize(text))\n",
    "        chunck = False\n",
    "\n",
    "        for sentence in sent_tokenize(text):\n",
    "            pos_tags = nltk.pos_tag(chunck_tokenize(sentence))\n",
    "\n",
    "            try:\n",
    "                word, tag = pos_tags[0]\n",
    "\n",
    "                if \"VB\" in tag:\n",
    "                    chunck = True\n",
    "            except:\n",
    "                continue\n",
    "\n",
    "            try:\n",
    "                for word, tag in nltk.pos_tag(chunck_tokenize(sentence))[:3]:\n",
    "                    if tag == \"NNP\":\n",
    "                        chunck = True\n",
    "                        break\n",
    "            except:\n",
    "                continue\n",
    "\n",
    "            if chunck:\n",
    "                break\n",
    "\n",
    "        return (length, chunck)\n",
    "\n",
    "    def fit(self, x, y=None):\n",
    "        \"\"\"\n",
    "        Fit the text message\n",
    "        \"\"\"\n",
    "        return self\n",
    "\n",
    "    def transform(self, X):\n",
    "        \"\"\"\n",
    "        Transform the text message\n",
    "        \"\"\"\n",
    "        result = pd.DataFrame()\n",
    "        X_tagged = pd.Series(X).apply(self.starting_verb)\n",
    "        result[\"length\"] = X_tagged.apply(lambda x: x[0] > 1)\n",
    "        result[\"chucnk\"] = X_tagged.apply(lambda x: x[1])\n",
    "        return result"
   ]
  },
  {
   "cell_type": "code",
   "execution_count": null,
   "metadata": {},
   "outputs": [],
   "source": [
    "forest = RandomForestClassifier(random_state=42, n_jobs=4)\n",
    "\n",
    "pipeline = Pipeline([\n",
    "    (\"features\", FeatureUnion([\n",
    "        (\"text_pipeline\", Pipeline([\n",
    "            (\"vect\", CountVectorizer(tokenizer=tokenize)),\n",
    "            (\"tfidf\", TfidfTransformer())\n",
    "        ])), \n",
    "        (\"exact_chunck\", WordChunckExtract())\n",
    "    ])),\n",
    "    (\"clf\", MultiOutputClassifier(forest, n_jobs=4))\n",
    "])"
   ]
  },
  {
   "cell_type": "code",
   "execution_count": null,
   "metadata": {},
   "outputs": [],
   "source": [
    "# params\n",
    "params = {\n",
    "#     'features__text_pipeline__vect__ngram_range': ((1, 1), (1, 2)),\n",
    "#     'features__text_pipeline__vect__max_df': (0.75, 1.0),\n",
    "    'features__text_pipeline__vect__max_features': (None, 5000, 10000),\n",
    "#     'features__text_pipeline__tfidf__use_idf': (True, False),\n",
    "    'clf__estimator__n_estimators': [100, 150],\n",
    "    'clf__estimator__criterion': ['gini', 'entropy'],\n",
    "    'clf__estimator__max_depth': [12, 18, 25],\n",
    "    'features__transformer_weights': (\n",
    "    {'text_pipeline': 1, 'starting_verb': 0.5},\n",
    "#     {'text_pipeline': 0.5, 'starting_verb': 1},\n",
    "#     {'text_pipeline': 0.8, 'starting_verb': 1},\n",
    ")\n",
    "\n",
    "}\n",
    "\n",
    "# train model\n",
    "cv = GridSearchCV(pipeline, param_grid=params, cv=3)\n",
    "\n",
    "cv.fit(train_X, train_y)"
   ]
  },
  {
   "cell_type": "code",
   "execution_count": null,
   "metadata": {},
   "outputs": [],
   "source": [
    "# predict values\n",
    "pred_y = cv.predict(test_X)"
   ]
  },
  {
   "cell_type": "code",
   "execution_count": null,
   "metadata": {},
   "outputs": [],
   "source": [
    "silence_print(test_y, pred_y)"
   ]
  },
  {
   "cell_type": "markdown",
   "metadata": {},
   "source": [
    "### 9. Export your model as a pickle file"
   ]
  },
  {
   "cell_type": "code",
   "execution_count": null,
   "metadata": {},
   "outputs": [],
   "source": [
    "import pickle"
   ]
  },
  {
   "cell_type": "code",
   "execution_count": null,
   "metadata": {},
   "outputs": [],
   "source": [
    "with open(\"model.pickle\", \"wb\") as file:\n",
    "    pickle.dump(cv, file)"
   ]
  },
  {
   "cell_type": "markdown",
   "metadata": {},
   "source": [
    "### 10. Use this notebook to complete `train.py`\n",
    "Use the template file attached in the Resources folder to write a script that runs the steps above to create a database and export a model based on a new dataset specified by the user."
   ]
  },
  {
   "cell_type": "code",
   "execution_count": null,
   "metadata": {},
   "outputs": [],
   "source": []
  },
  {
   "cell_type": "code",
   "execution_count": null,
   "metadata": {},
   "outputs": [],
   "source": []
  }
 ],
 "metadata": {
  "kernelspec": {
   "display_name": "Python 3",
   "language": "python",
   "name": "python3"
  },
  "language_info": {
   "codemirror_mode": {
    "name": "ipython",
    "version": 3
   },
   "file_extension": ".py",
   "mimetype": "text/x-python",
   "name": "python",
   "nbconvert_exporter": "python",
   "pygments_lexer": "ipython3",
   "version": "3.6.3"
  }
 },
 "nbformat": 4,
 "nbformat_minor": 2
}
